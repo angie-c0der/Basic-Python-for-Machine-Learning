{
  "nbformat": 4,
  "nbformat_minor": 0,
  "metadata": {
    "colab": {
      "provenance": [],
      "authorship_tag": "ABX9TyPYC7YEo1PD8fBM+QxbSpLD",
      "include_colab_link": true
    },
    "kernelspec": {
      "name": "python3",
      "display_name": "Python 3"
    },
    "language_info": {
      "name": "python"
    }
  },
  "cells": [
    {
      "cell_type": "markdown",
      "metadata": {
        "id": "view-in-github",
        "colab_type": "text"
      },
      "source": [
        "<a href=\"https://colab.research.google.com/github/angie-c0der/Basic-Python-for-Machine-Learning/blob/main/Python_code_examples.ipynb\" target=\"_parent\"><img src=\"https://colab.research.google.com/assets/colab-badge.svg\" alt=\"Open In Colab\"/></a>"
      ]
    },
    {
      "cell_type": "markdown",
      "source": [
        "## 1. Program to find largest of three numbers\n",
        "\n",
        "- **Step 1:** Assign/Read three numbers from the user.\n",
        "- **Step 2:** Find the largest number using conditionals `if-elif-else`.\n",
        "- **Step 3:** Print the largest number.\n",
        "\n",
        "\n",
        "\n"
      ],
      "metadata": {
        "id": "caTPnx748ywz"
      }
    },
    {
      "cell_type": "code",
      "source": [
        "\"\"\"\n",
        "# Python program to find the largest number among the three input numbers\n",
        "\"\"\"\n",
        "num1 = 40\n",
        "num2 = 24\n",
        "num3 = 32\n",
        "#uncomment following lines to take three numbers from user\n",
        "num1 = float(input(\"Enter first number: \"))\n",
        "num2 = float(input(\"Enter second number: \"))\n",
        "num3 = float(input(\"Enter third number: \"))\n",
        "if (num1 >= num2) and (num1 >= num3):\n",
        "   largest = num1\n",
        "elif (num2 >= num1) and (num2 >= num3):\n",
        "   largest = num2\n",
        "else:\n",
        "   largest = num3\n",
        "print(\"The largest number is\", largest)"
      ],
      "metadata": {
        "colab": {
          "base_uri": "https://localhost:8080/"
        },
        "id": "IP0Rp8zNpGEL",
        "outputId": "1b11aa51-29bb-4a77-e52a-153c088b4bbd"
      },
      "execution_count": null,
      "outputs": [
        {
          "output_type": "stream",
          "name": "stdout",
          "text": [
            "Enter first number: 6\n",
            "Enter second number: 4\n",
            "Enter third number: 9\n",
            "The largest number is 9.0\n"
          ]
        }
      ]
    },
    {
      "cell_type": "markdown",
      "source": [
        "##2. Printing multiplication table\n",
        "\n",
        "- **Step 1:** Assign/read a number from the user.\n",
        "- **Step 2:** Assign/read the number till which the table is to be displayed.\n",
        "- **Step 2:** Find the multiplication table of that number using loops. \n",
        "- **Step 3:** Print the multiplication table of that number.\n",
        "\n",
        "\n",
        "\n"
      ],
      "metadata": {
        "id": "zqGLMz-9BbGh"
      }
    },
    {
      "cell_type": "code",
      "execution_count": null,
      "metadata": {
        "colab": {
          "base_uri": "https://localhost:8080/"
        },
        "id": "GXVl7OjcR71f",
        "outputId": "43cf2995-7d30-44fc-b384-df1d2608aedf"
      },
      "outputs": [
        {
          "output_type": "stream",
          "name": "stdout",
          "text": [
            "Display multiplication table of? 15\n",
            "Till what number the multiplication table should be displayed? 6\n",
            "15 x 1 = 6\n",
            "15 x 2 = 12\n",
            "15 x 3 = 18\n",
            "15 x 4 = 24\n",
            "15 x 5 = 30\n",
            "15 x 6 = 36\n"
          ]
        }
      ],
      "source": [
        "# Multiplication table (from 1 to 10) in Python\n",
        "\n",
        "#num = 12\n",
        "\n",
        "# To take input from the user\n",
        "num = int(input(\"Display multiplication table of? \"))\n",
        "num1 = int(input(\"Till what number the multiplication table should be displayed? \"))\n",
        "\n",
        "# Iterate 10 times from i = 1 to 10\n",
        "for i in range(1, num1+1):\n",
        "   print(num, 'x', i, '=', num1*i)"
      ]
    },
    {
      "cell_type": "markdown",
      "source": [
        ">**Task:** Get an integer less than 12 from the user and display its multiplication table."
      ],
      "metadata": {
        "id": "ptC0nXisDrmR"
      }
    },
    {
      "cell_type": "code",
      "source": [
        "num = int(input(\"Enter an integer less than 12: \"))\n",
        "for i in range(1,11):\n",
        "  print(num, \"x\", i, \"=\", num*i)"
      ],
      "metadata": {
        "colab": {
          "base_uri": "https://localhost:8080/"
        },
        "id": "uqvhObioDwgi",
        "outputId": "75db29f5-11fc-474a-c516-d8ebb89fd571"
      },
      "execution_count": null,
      "outputs": [
        {
          "output_type": "stream",
          "name": "stdout",
          "text": [
            "Enter an integer less than 12: 6\n",
            "6 x 1 = 6\n",
            "6 x 2 = 12\n",
            "6 x 3 = 18\n",
            "6 x 4 = 24\n",
            "6 x 5 = 30\n",
            "6 x 6 = 36\n",
            "6 x 7 = 42\n",
            "6 x 8 = 48\n",
            "6 x 9 = 54\n",
            "6 x 10 = 60\n"
          ]
        }
      ]
    },
    {
      "cell_type": "markdown",
      "source": [
        "##3. Check for sign of a number\n",
        "\n",
        "- **Step 1:** Assign/Read a number from the user.\n",
        "- **Step 2:** Check the sign of the number using 'if-elif-else' conditionals.\n",
        "- **Step 3:** Display the sign of the number. "
      ],
      "metadata": {
        "id": "p4FZ-_MpESTJ"
      }
    },
    {
      "cell_type": "code",
      "source": [
        "num = float(input(\"Enter a number: \"))\n",
        "if num > 0:\n",
        "   print(\"Positive number\")\n",
        "elif num == 0:\n",
        "   print(\"Zero\")\n",
        "else:\n",
        "   print(\"Negative number\")"
      ],
      "metadata": {
        "colab": {
          "base_uri": "https://localhost:8080/"
        },
        "id": "qagw5dYPSOtO",
        "outputId": "14a4772f-4a08-4406-936e-d49bf5935510"
      },
      "execution_count": null,
      "outputs": [
        {
          "output_type": "stream",
          "name": "stdout",
          "text": [
            "Enter a number: -23\n",
            "Negative number\n"
          ]
        }
      ]
    },
    {
      "cell_type": "markdown",
      "source": [
        "##4. Find area of a circle with radius $r$ using user input.\n",
        "\n",
        " $$A=\\pi r^2$$\n",
        "- **Step 1:** Assign the value of pi as 3.14 or import from math\n",
        "- **Step 2:** Read the Radius of the circle from the user.\n",
        "- **Step 3:** Calculate the Area (A) using the given equation.\n",
        "- **Step 4:** Print the Area of the circle.\n"
      ],
      "metadata": {
        "id": "sSr3xEtuXdw-"
      }
    },
    {
      "cell_type": "code",
      "source": [
        "\"\"\"\n",
        "program to find area of a circle\n",
        "\"\"\"\n",
        "r=float(input(\"Enter the radius: \"))\n",
        "print(\"Area: \",pi*r**2)"
      ],
      "metadata": {
        "colab": {
          "base_uri": "https://localhost:8080/"
        },
        "id": "2joezx-KXljx",
        "outputId": "acf4eb19-8cce-4c95-e269-948cc38032f9"
      },
      "execution_count": null,
      "outputs": [
        {
          "output_type": "stream",
          "name": "stdout",
          "text": [
            "Enter the radius: 5.3\n",
            "Area:  88.2026\n"
          ]
        }
      ]
    },
    {
      "cell_type": "markdown",
      "source": [
        "##5. Find the area of a rectangle with lenght $l$ and breadth $b$\n",
        "$$A=l * b$$ \n",
        "\n",
        "- **Step 1:** Assign/Read the length and breadth from the user.\n",
        "- **Step 2:** Caluculate the area of the Rectangle using the above formula.\n",
        "- **Step 3:** Print the area of the Rectangle."
      ],
      "metadata": {
        "id": "Sdl9dkTvHO5o"
      }
    },
    {
      "cell_type": "code",
      "source": [
        "l=float(input(\"Enter the Length of the rectangle: \"))\n",
        "b=float(input(\"Enter thye Breadth of the rectangle: \"))\n",
        "Area=l*b\n",
        "print(\"Area of the Rectangle is : \",Area)"
      ],
      "metadata": {
        "colab": {
          "base_uri": "https://localhost:8080/"
        },
        "id": "tE_hVFL2YK2F",
        "outputId": "4fc70b71-f037-4df3-fcab-32f32dce87e3"
      },
      "execution_count": null,
      "outputs": [
        {
          "output_type": "stream",
          "name": "stdout",
          "text": [
            "Enter the Length of the rectangle: 2.6\n",
            "Enter thye Breadth of the rectangle: 4\n",
            "Area of the Rectangle is :  10.4\n"
          ]
        }
      ]
    },
    {
      "cell_type": "markdown",
      "source": [
        "##6. Find surface area and volume of a cylinder\n",
        "\n",
        "Let $r$ is the base radius and $h$ is the height of a right circular cylinder.\n",
        "$$SA=2\\pi r(r+h)$$\n",
        "\n",
        "$$V=\\pi r^2 h$$\n",
        "\n",
        "- **Step 1:** Assign the value of pi as 3.14 or import from math\n",
        "- **Step 2:** Assign/Read the value of Radius $(r)$ and Height $(h)$ of the right circular cylinder.\n",
        "- **Step 3:** Calculate the Surface Area (SA) using the given equation.\n",
        "- **Step 4:** Calculate the Volume (V).\n",
        "- **Step 5:** Print the Surface Area and Volume of the cylinder."
      ],
      "metadata": {
        "id": "f17gSs3eE3cR"
      }
    },
    {
      "cell_type": "code",
      "source": [
        "#from math import pi\n",
        "pi=3.14\n",
        "r=int(input(\"Enter the Radius of the cylinder: \"))\n",
        "h=int(input(\"Enter the Height of the cylinder: \"))\n",
        "SA=2*pi*r*(r+h)\n",
        "V=pi*r**2*h\n",
        "print((\"Surface Area is {} and Volume is {}\").format(SA,V))"
      ],
      "metadata": {
        "colab": {
          "base_uri": "https://localhost:8080/"
        },
        "id": "NP5Yahw5Wazn",
        "outputId": "89d20ae7-5623-4905-c650-62bc698bd1e4"
      },
      "execution_count": null,
      "outputs": [
        {
          "output_type": "stream",
          "name": "stdout",
          "text": [
            "Enter the Radius of the cylinder: 6\n",
            "Enter the Height of the cylinder: 8\n",
            "Surface Area is 527.52 and Volume is 904.32\n"
          ]
        }
      ]
    },
    {
      "cell_type": "markdown",
      "source": [
        "##7. Replacing a word with another word  in a sentence\n",
        "\n",
        "Use the `replace()` method in `python`\n",
        "\n",
        ">**Syntax:**\n",
        "\n",
        "```\n",
        "str.replace(old,new)\n",
        "```\n",
        "\n",
        "- **Step 1:** Assign/Read a string from the user.\n",
        "- **Step 2:** Obtain the `replaced_text` using the `replace()` method.\n",
        "- **Step 3:** Print the replaced text.\n",
        "\n"
      ],
      "metadata": {
        "id": "SP246J1XZHbk"
      }
    },
    {
      "cell_type": "code",
      "source": [
        "# program to replace a word by another word in a sentence\n",
        "text = input(\"Enter any string: \")\n",
        "\n",
        "# replace 'hand' with 'foot'\n",
        "replaced_text = text.replace('hand ', 'foot ')\n",
        "print(replaced_text)"
      ],
      "metadata": {
        "colab": {
          "base_uri": "https://localhost:8080/"
        },
        "id": "QfIPj2_SZM6n",
        "outputId": "b3617b5b-a929-4d23-9ccf-645b666f4f31"
      },
      "execution_count": null,
      "outputs": [
        {
          "output_type": "stream",
          "name": "stdout",
          "text": [
            "Enter any string: hand ball is a hand full of hands\n",
            "foot ball is a foot full of hands\n"
          ]
        }
      ]
    },
    {
      "cell_type": "markdown",
      "source": [
        "##8. Program to remove a word from a sentence\n",
        "\n",
        "We will use the string method `replace()` first.\n",
        "\n",
        "\n",
        "\n",
        "- **Step 1:** Read a string from the user.\n",
        "- **Step 2:** Obtain the word to delete from the string.\n",
        "- **Step 3:** Delete the word in the string using `replace()`.\n",
        "- **Step 4:** Print the updated string."
      ],
      "metadata": {
        "id": "kpxkra3ZjgzQ"
      }
    },
    {
      "cell_type": "code",
      "source": [
        "# program to remove a word from a sentence\n",
        "text = input(\"Enter the String: \")\n",
        "word = input(\"Enter a Word to Delete: \")\n",
        "\n",
        "text = text.replace(word, \"\")\n",
        "print(\"The updated sentence is:\\n\")\n",
        "print(text)"
      ],
      "metadata": {
        "colab": {
          "base_uri": "https://localhost:8080/"
        },
        "id": "-bTOChg4kxRr",
        "outputId": "c059deef-18a7-4630-b662-808f5cd9aea5"
      },
      "execution_count": null,
      "outputs": [
        {
          "output_type": "stream",
          "name": "stdout",
          "text": [
            "Enter the String: This is a very beautiful day.\n",
            "Enter a Word to Delete: very\n",
            "The updated sentence is:\n",
            "\n",
            "This is a  beautiful day.\n"
          ]
        }
      ]
    },
    {
      "cell_type": "markdown",
      "source": [
        "We will now use the `remove()` method.\n",
        ">**Syntax:**\n",
        "\n",
        "```\n",
        "str.remove(word to be removed)\n",
        "```\n",
        "- **Step 1:** Read a string from the user.\n",
        "- **Step 2:** Obtain the word to delete from the string.\n",
        "- **Step 3:** Delete the word in the string using `remove()`.\n",
        "- **Step 4:** Print the updated string."
      ],
      "metadata": {
        "id": "LYu9FBjsKwAg"
      }
    },
    {
      "cell_type": "code",
      "source": [
        "# Write a program that input a string and ask\n",
        "# user to delete a given word from a string.\n",
        "\n",
        "text = input('Enter a string: ')\n",
        "words = text.split()\n",
        "\n",
        "data = input('Enter a word to delete: ')\n",
        "status = False\n",
        "\n",
        "for word in words:\n",
        "    if word == data:\n",
        "        words.remove(word)\n",
        "        status = True\n",
        "\n",
        "if status:\n",
        "    text = ' '.join(words)\n",
        "    print('String after deletion:',text)\n",
        "else:\n",
        "    print('Word not present in string.')"
      ],
      "metadata": {
        "colab": {
          "base_uri": "https://localhost:8080/"
        },
        "id": "d1CQFPT8M7gI",
        "outputId": "8d5aa888-0fa1-4906-c27f-a45f57593de9"
      },
      "execution_count": null,
      "outputs": [
        {
          "output_type": "stream",
          "name": "stdout",
          "text": [
            "Enter a string: hello world earth\n",
            "Enter a word to delete: world\n",
            "String after deletion: hello earth\n"
          ]
        }
      ]
    },
    {
      "cell_type": "markdown",
      "source": [
        "##9. Program to split a sentence into words\n",
        "\n",
        "use the `split()` method\n",
        ">**Syntax:**\n",
        "```\n",
        "str.split()\n",
        "```\n",
        "- **Step 1:** Read a string from the user.\n",
        "- **Step 2:** Split the words in the string using `split()` method.\n",
        "- **Step 3:** Print the splitted string."
      ],
      "metadata": {
        "id": "NRg-zTGOlVKG"
      }
    },
    {
      "cell_type": "code",
      "source": [
        "wordlist = text.split()\n",
        "wordlist"
      ],
      "metadata": {
        "colab": {
          "base_uri": "https://localhost:8080/"
        },
        "id": "GjXgR_vmlqRd",
        "outputId": "d859e2f7-821f-44ed-e97e-672fbf862177"
      },
      "execution_count": null,
      "outputs": [
        {
          "output_type": "execute_result",
          "data": {
            "text/plain": [
              "['welcome', 'to', 'this', 'amazing', 'class.']"
            ]
          },
          "metadata": {},
          "execution_count": 16
        }
      ]
    },
    {
      "cell_type": "markdown",
      "source": [
        "##10. Program to check if a list of words is in a long string at least once.\n",
        "\n",
        "- **Step 1:** Assign a list of words to a variable.\n",
        "- **Step 2:** Read the string from the user.\n",
        "- **Step 3:** Check whether any of the words in the list are in the string using `set()` and `intersection()`\n",
        "- **Step 4:** If found any, print as 'found one'."
      ],
      "metadata": {
        "id": "EAo8docqnlRg"
      }
    },
    {
      "cell_type": "code",
      "source": [
        "# program to check atleat one occurance of keywords\n",
        "\n",
        "keyword_list = ['motorcycle', 'bike', 'bicycle', 'dirtbike', \"long\"]\n",
        "all_text = 'The bicycle is just as good company as most husbands and, when it gets old and shabby, a woman can dispose of it and get a new one without shocking the entire community'\n",
        "if set(keyword_list).intersection(all_text.split()):\n",
        "     print(\"Found One\")"
      ],
      "metadata": {
        "colab": {
          "base_uri": "https://localhost:8080/"
        },
        "id": "RnmT51ISnsVu",
        "outputId": "79c952a3-b474-4d4e-82f2-48582f3b7f74"
      },
      "execution_count": null,
      "outputs": [
        {
          "output_type": "stream",
          "name": "stdout",
          "text": [
            "Found One\n"
          ]
        }
      ]
    }
  ]
}